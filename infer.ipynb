{
 "cells": [
  {
   "cell_type": "code",
   "execution_count": 4,
   "id": "8ad95501-5c45-42cd-b427-e0885d0cd6f9",
   "metadata": {},
   "outputs": [],
   "source": [
    "import torch\n",
    "import torch.nn.functional as F\n",
    "import numpy as np\n",
    "\n",
    "from datasets import load_dataset\n",
    "from gpt2 import GPT, GPTConfig\n",
    "from hellaswag import render_example, iterate_examples\n",
    "import tiktoken"
   ]
  },
  {
   "cell_type": "code",
   "execution_count": 5,
   "id": "f1e73859-c5bc-4b89-af6b-3d6f05d83325",
   "metadata": {},
   "outputs": [
    {
     "name": "stderr",
     "output_type": "stream",
     "text": [
      "/tmp/ipykernel_14441/368447890.py:1: FutureWarning: You are using `torch.load` with `weights_only=False` (the current default value), which uses the default pickle module implicitly. It is possible to construct malicious pickle data which will execute arbitrary code during unpickling (See https://github.com/pytorch/pytorch/blob/main/SECURITY.md#untrusted-models for more details). In a future release, the default value for `weights_only` will be flipped to `True`. This limits the functions that could be executed during unpickling. Arbitrary objects will no longer be allowed to be loaded via this mode unless they are explicitly allowlisted by the user via `torch.serialization.add_safe_globals`. We recommend you start setting `weights_only=True` for any use case where you don't have full control of the loaded file. Please open an issue on GitHub for any issues related to this experimental feature.\n",
      "  checkpoint = torch.load(\"log/model_00079.pt\")\n"
     ]
    },
    {
     "data": {
      "text/plain": [
       "GPT(\n",
       "  (transformer): ModuleDict(\n",
       "    (wte): Embedding(50257, 768)\n",
       "    (wpe): Embedding(1024, 768)\n",
       "    (h): ModuleList(\n",
       "      (0-11): 12 x Block(\n",
       "        (ln_1): LayerNorm((768,), eps=1e-05, elementwise_affine=True)\n",
       "        (attn): CausalSelfAttention(\n",
       "          (c_attn): Linear(in_features=768, out_features=2304, bias=True)\n",
       "          (c_proj): Linear(in_features=768, out_features=768, bias=True)\n",
       "        )\n",
       "        (ln_2): LayerNorm((768,), eps=1e-05, elementwise_affine=True)\n",
       "        (mlp): MLP(\n",
       "          (c_fc): Linear(in_features=768, out_features=3072, bias=True)\n",
       "          (gelu): GELU(approximate='tanh')\n",
       "          (c_proj): Linear(in_features=3072, out_features=768, bias=True)\n",
       "        )\n",
       "      )\n",
       "    )\n",
       "    (ln_f): LayerNorm((768,), eps=1e-05, elementwise_affine=True)\n",
       "  )\n",
       "  (lm_head): Linear(in_features=768, out_features=50257, bias=False)\n",
       ")"
      ]
     },
     "execution_count": 5,
     "metadata": {},
     "output_type": "execute_result"
    }
   ],
   "source": [
    "checkpoint = torch.load(\"log/model_00079.pt\")\n",
    "weights = checkpoint['model']\n",
    "\n",
    "# Init the model\n",
    "model = GPT(GPTConfig())\n",
    "model.load_state_dict(weights)\n",
    "\n",
    "# Set Device\n",
    "device = \"cuda:0\"\n",
    "\n",
    "# Move the model to GPU\n",
    "model.to(device)"
   ]
  },
  {
   "cell_type": "code",
   "execution_count": 6,
   "id": "18f2a587-a880-4dc6-8895-b6efec821675",
   "metadata": {},
   "outputs": [],
   "source": [
    "torch.manual_seed(1337)\n",
    "if torch.cuda.is_available():\n",
    "    torch.cuda.manual_seed(1337)"
   ]
  },
  {
   "cell_type": "code",
   "execution_count": 41,
   "id": "a9b118c2-93fb-4d35-a02e-cd93c9a76667",
   "metadata": {},
   "outputs": [],
   "source": [
    "## Generator Function to generate from the model\n",
    "def streaming_generate(model, prompt):\n",
    "    enc = tiktoken.get_encoding(\"gpt2\")\n",
    "    model.eval()\n",
    "    max_length = 500\n",
    "    tokens = enc.encode(prompt)\n",
    "    tokens = torch.tensor([tokens], dtype=torch.long)\n",
    "    xgen = tokens.to(device)\n",
    "    sample_rng = torch.Generator(device=device)\n",
    "    sample_rng.manual_seed(42)\n",
    "\n",
    "    while xgen.size(1) < max_length:\n",
    "        # forward the model to get the logits\n",
    "        with torch.no_grad():\n",
    "            logits, loss = model(xgen[:, -1024:]) # (B, T, vocab_size)\n",
    "            # take the logits at the last position\n",
    "            logits = logits[:, -1, :] # (B, vocab_size)\n",
    "            # get the probabilities\n",
    "            probs = F.softmax(logits, dim=-1)\n",
    "            # do top-k sampling of 50 (huggingface pipeline default)\n",
    "            # topk_probs here becomes (5, 50), topk_indices is (5, 50)\n",
    "            topk_probs, topk_indices = torch.topk(probs, 50, dim=-1)\n",
    "            # select a token from the top-k probabilities\n",
    "            # note: multinomial does not demand the input to sum to 1\n",
    "            ix = torch.multinomial(topk_probs, 1, generator=sample_rng) # (B, 1)\n",
    "            # gather the corresponding indices\n",
    "            xcol = torch.gather(topk_indices, -1, ix) # (B, 1)\n",
    "\n",
    "            # Check if we reached end of generation\n",
    "            val = xcol.tolist()[0]\n",
    "            decoded = enc.decode(val)\n",
    "            if decoded == \"<|endoftext|>\":\n",
    "                break\n",
    "            else:\n",
    "                yield decoded\n",
    "\n",
    "            # append to the sequence\n",
    "            xgen = torch.cat((xgen, xcol), dim=1)"
   ]
  },
  {
   "cell_type": "code",
   "execution_count": 23,
   "id": "43161bdd-44c8-4e41-beb4-56e44dcefbb5",
   "metadata": {},
   "outputs": [],
   "source": [
    "def preprocess_function(example):\n",
    "    \"\"\"\n",
    "    Formatting function returning a list of samples (kind of necessary for SFT API).\n",
    "    \"\"\"\n",
    "    text = f\"### Instruction:\\n{example['instruction']}\\n\\n### Input:\\n{example['input']}\\n\\n### Response:\\n{example['output']}\"\n",
    "    return text"
   ]
  },
  {
   "cell_type": "code",
   "execution_count": 24,
   "id": "323cde3d-a118-40a4-8db7-9682f1ab1749",
   "metadata": {},
   "outputs": [],
   "source": [
    "def generate(model, query):\n",
    "    prompt = preprocess_function({\"instruction\": query, \"input\": \"\", \"output\": \"\"})\n",
    "    for tok in streaming_generate(model, prompt):\n",
    "        print(tok, end='')\n",
    "    print()"
   ]
  },
  {
   "cell_type": "markdown",
   "id": "89318286-ada7-42cb-ab6c-b6c96374c757",
   "metadata": {},
   "source": [
    "## Base Model Generation"
   ]
  },
  {
   "cell_type": "code",
   "execution_count": 39,
   "id": "45144181-e1d4-49db-a0c2-90c94a45bb64",
   "metadata": {},
   "outputs": [
    {
     "name": "stdout",
     "output_type": "stream",
     "text": [
      "loading weights from pretrained gpt: gpt2\n"
     ]
    },
    {
     "data": {
      "text/plain": [
       "GPT(\n",
       "  (transformer): ModuleDict(\n",
       "    (wte): Embedding(50257, 768)\n",
       "    (wpe): Embedding(1024, 768)\n",
       "    (h): ModuleList(\n",
       "      (0-11): 12 x Block(\n",
       "        (ln_1): LayerNorm((768,), eps=1e-05, elementwise_affine=True)\n",
       "        (attn): CausalSelfAttention(\n",
       "          (c_attn): Linear(in_features=768, out_features=2304, bias=True)\n",
       "          (c_proj): Linear(in_features=768, out_features=768, bias=True)\n",
       "        )\n",
       "        (ln_2): LayerNorm((768,), eps=1e-05, elementwise_affine=True)\n",
       "        (mlp): MLP(\n",
       "          (c_fc): Linear(in_features=768, out_features=3072, bias=True)\n",
       "          (gelu): GELU(approximate='tanh')\n",
       "          (c_proj): Linear(in_features=3072, out_features=768, bias=True)\n",
       "        )\n",
       "      )\n",
       "    )\n",
       "    (ln_f): LayerNorm((768,), eps=1e-05, elementwise_affine=True)\n",
       "  )\n",
       "  (lm_head): Linear(in_features=768, out_features=50257, bias=False)\n",
       ")"
      ]
     },
     "execution_count": 39,
     "metadata": {},
     "output_type": "execute_result"
    }
   ],
   "source": [
    "base_model = GPT.from_pretrained(\"gpt2\")\n",
    "base_model.to(device)"
   ]
  },
  {
   "cell_type": "code",
   "execution_count": 42,
   "id": "a5051eca-f1dc-4015-8c6f-b991f8083c6b",
   "metadata": {},
   "outputs": [
    {
     "name": "stdout",
     "output_type": "stream",
     "text": [
      "\n",
      "What is 2+2?\n",
      "\n",
      "### Input:\n",
      "\n",
      "What is 2+2?\n",
      "\n",
      "### Input:\n",
      "\n",
      "What is 3 + 3?\n",
      "\n",
      "### Input:\n",
      "\n",
      "What is 3+3?\n",
      "\n",
      "### Input:\n",
      "\n",
      "What is 4 + 4?\n",
      "\n",
      "### Input:\n",
      "\n",
      "What is 4+4?\n",
      "\n",
      "### Input:\n",
      "\n",
      "What is 5 + 5?\n",
      "\n",
      "### Input:\n",
      "\n",
      "What is 5+5?\n",
      "\n",
      "### Input:\n",
      "\n",
      "What is 6 + 6?\n",
      "\n",
      "### Input:\n",
      "\n",
      "What is 6+6?\n",
      "\n",
      "### Input:\n",
      "\n",
      "What is 7 + 7?\n",
      "\n",
      "### Input:\n",
      "\n",
      "What is 8 + 8?\n",
      "\n",
      "### Input:\n",
      "\n",
      "What is 8+8?\n",
      "\n",
      "### Input:\n",
      "\n",
      "What is 9 + 9?\n",
      "\n",
      "### Input:\n",
      "\n",
      "What is 9+9?\n",
      "\n",
      "### Input:\n",
      "\n",
      "What is 10 + 10?\n",
      "\n",
      "### Input:\n",
      "\n",
      "What is 10+10?\n",
      "\n",
      "### Input:\n",
      "\n",
      "What is 11 + 11?\n",
      "\n",
      "### Input:\n",
      "\n",
      "What is 11+11?\n",
      "\n",
      "### Input:\n",
      "\n",
      "What is 12 + 12?\n",
      "\n",
      "### Input:\n",
      "\n",
      "What is 11+12?\n",
      "\n",
      "### Input:\n",
      "\n",
      "What is 12+12?\n",
      "\n",
      "### Input:\n",
      "\n",
      "What is 13 + 13?\n",
      "\n",
      "### Input:\n",
      "\n",
      "What is 13+13?\n",
      "\n",
      "### Input:\n",
      "\n",
      "What is 14 + 14?\n",
      "\n",
      "### Input:\n",
      "\n",
      "What is 14+14?\n",
      "\n",
      "### Input:\n",
      "\n",
      "What is 15 + 15?\n",
      "\n",
      "### Input:\n",
      "\n",
      "What is 15+15?\n",
      "\n",
      "### Input:\n",
      "\n",
      "What is 16 + 16?\n",
      "\n",
      "### Input:\n",
      "\n",
      "What is 16+16?\n",
      "\n",
      "### Input:\n",
      "\n",
      "What is 17 + 17?\n",
      "\n",
      "### Input:\n",
      "\n",
      "What is 17+17?\n",
      "\n",
      "### Input:\n",
      "\n",
      "What is 18 + 18?\n",
      "\n",
      "### Input:\n",
      "\n",
      "What is 18+18?\n",
      "\n",
      "### Input:\n",
      "\n",
      "What is 19 + 19?\n",
      "\n",
      "### Input:\n",
      "\n",
      "What is 19+19?\n",
      "\n",
      "### Input:\n",
      "\n",
      "What is 20 + 20?\n",
      "\n",
      "### Input\n"
     ]
    }
   ],
   "source": [
    "generate(base_model, \"What is 2 + 2?\")"
   ]
  },
  {
   "cell_type": "markdown",
   "id": "95429099-89cc-4a34-af8f-7c2825b6f831",
   "metadata": {},
   "source": [
    "## Fine Tuned Model Generation"
   ]
  },
  {
   "cell_type": "code",
   "execution_count": 43,
   "id": "25737615-cf77-4a07-a948-7cb50b8ed252",
   "metadata": {},
   "outputs": [
    {
     "name": "stdout",
     "output_type": "stream",
     "text": [
      "2 + 2 is equivalent to 4.\n"
     ]
    }
   ],
   "source": [
    "generate(model, \"What is 2 + 2?\")"
   ]
  },
  {
   "cell_type": "code",
   "execution_count": 47,
   "id": "4197a297-b6ad-4ebc-a842-486a699416bc",
   "metadata": {},
   "outputs": [
    {
     "name": "stdout",
     "output_type": "stream",
     "text": [
      "The Eiffel Tower is located in Paris, France.\n"
     ]
    }
   ],
   "source": [
    "generate(model, \"Where is Eiffel Tower?\")"
   ]
  },
  {
   "cell_type": "code",
   "execution_count": 48,
   "id": "f0238185-d284-4823-9afe-dfe18175f1ce",
   "metadata": {},
   "outputs": [
    {
     "name": "stdout",
     "output_type": "stream",
     "text": [
      "The president of the United States is Barack Obama.\n"
     ]
    }
   ],
   "source": [
    "generate(model, \"Who is the president of U.S?\")"
   ]
  },
  {
   "cell_type": "code",
   "execution_count": 49,
   "id": "a929268c-9aa6-4d5d-a0f2-f3d027731ca3",
   "metadata": {},
   "outputs": [
    {
     "name": "stdout",
     "output_type": "stream",
     "text": [
      "The tallest building in China is the 9,888-metre high Minglong Tower located in Jiechi Province in the Shandong province of China.\n"
     ]
    }
   ],
   "source": [
    "generate(model, \"What's the tallest building in the world?\")"
   ]
  },
  {
   "cell_type": "code",
   "execution_count": null,
   "id": "944598ad-28cd-4cd9-bd44-c3734ceb85ff",
   "metadata": {},
   "outputs": [],
   "source": []
  }
 ],
 "metadata": {
  "kernelspec": {
   "display_name": "Python 3 (ipykernel)",
   "language": "python",
   "name": "python3"
  },
  "language_info": {
   "codemirror_mode": {
    "name": "ipython",
    "version": 3
   },
   "file_extension": ".py",
   "mimetype": "text/x-python",
   "name": "python",
   "nbconvert_exporter": "python",
   "pygments_lexer": "ipython3",
   "version": "3.12.4"
  },
  "widgets": {
   "application/vnd.jupyter.widget-state+json": {
    "state": {},
    "version_major": 2,
    "version_minor": 0
   }
  }
 },
 "nbformat": 4,
 "nbformat_minor": 5
}
